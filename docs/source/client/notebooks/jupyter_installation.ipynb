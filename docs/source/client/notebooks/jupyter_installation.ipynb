{
 "cells": [
  {
   "cell_type": "markdown",
   "metadata": {
    "collapsed": true,
    "pycharm": {
     "name": "#%% md\n"
    }
   },
   "source": [
    "## Installation of panda-client\n",
    "This section explains how to install panda-client on JupyterLab.\n",
    "\n",
    "#### Launch a notebook and install panda-client using pip"
   ]
  },
  {
   "cell_type": "code",
   "execution_count": null,
   "outputs": [],
   "source": [
    "import sys\n",
    "!{sys.executable} -m pip install panda-client[jupyter]"
   ],
   "metadata": {
    "collapsed": false,
    "pycharm": {
     "name": "#%%\n"
    }
   }
  },
  {
   "cell_type": "markdown",
   "source": [
    "#### Copy the setup file"
   ],
   "metadata": {
    "collapsed": false,
    "pycharm": {
     "name": "#%% md\n"
    }
   }
  },
  {
   "cell_type": "code",
   "execution_count": null,
   "outputs": [],
   "source": [
    "!mkdir ~/.panda\n",
    "!cp {sys.exec_prefix}/etc/panda/panda_setup.example.cfg ~/.panda/panda_setup.cfg"
   ],
   "metadata": {
    "collapsed": false,
    "pycharm": {
     "name": "#%%\n"
    }
   }
  },
  {
   "cell_type": "markdown",
   "source": [
    "The setup file is copied to the subdirectory where you started JupyterLab and\n",
    "shows up in the Files tab on the Left Sidebar.\n",
    "\n",
    "#### Modify the setup file if necessary\n",
    "The setup file contains all configuration parameters.\n",
    "You need to change the following parameters in the setup file if any:\n",
    "\n",
    "* PANDA_URL_SSL: _Base HTTPS URL of PanDA server_\n",
    "* PANDA_URL: _Base HTTP URL of PanDA server_\n",
    "* PANDA_AUTH_VO: _Virtual organization name (required only when PANDA_AUTH = oidc)_\n",
    "* PANDA_AUTH: _Authentication mechanism (oidc, x509, x509_no_grid)_\n",
    "* PANDA_USE_NATIVE_HTTPLIB: _Use native httplib instead of curl for HTTP operations_\n",
    "* X509_USER_PROXY: _Grid proxy file path (required only when PANDA_AUTH = x509_no_grid)_\n",
    "* PANDA_NICKNAME: _Grid nickname (required only when PANDA_AUTH = x509_no_grid)_\n",
    "\n",
    "\n",
    "##### Setup example for DOMA using OIDC/OAuth2.0 authentication\n",
    "```text\n",
    "PANDA_AUTH = oidc\n",
    "PANDA_URL_SSL = https://pandaserver-doma.cern.ch/server/panda\n",
    "PANDA_URL = https://pandaserver-doma.cern.ch/server/panda\n",
    "PANDAMON_URL = https://panda-doma.cern.ch\n",
    "PANDA_AUTH_VO = my_vo\n",
    "```\n",
    "Then you need to get an ID token as explained in the next page.\n",
    "\n",
    "\n",
    "##### Setup example for ATLAS using X509 authentication without grid middleware\n",
    "```text\n",
    "PANDA_AUTH = x509_no_grid\n",
    "X509_USER_PROXY = /Users/hage/x509up_u17959\n",
    "PANDA_USE_NATIVE_HTTPLIB = 1\n",
    "PANDA_NICKNAME = my_nickname\n",
    "```\n",
    "Make sure that you generate a grid proxy file somewhere and copy it to the filepath defined\n",
    "by X509_USER_PROXY. Also, PANDA_NICKNAME needs to be consisitent with the nickname\n",
    "in ATLAS VOMS.\n",
    "\n",
    "----\n",
    "\n",
    "Download [notebook](https://raw.githubusercontent.com/PanDAWMS/panda-docs/main/docs/source/client/notebooks/jupyter_installation.ipynb)"
   ],
   "metadata": {
    "collapsed": false,
    "pycharm": {
     "name": "#%% md\n"
    }
   }
  }
 ],
 "metadata": {
  "kernelspec": {
   "display_name": "Python 3",
   "language": "python",
   "name": "python3"
  },
  "language_info": {
   "codemirror_mode": {
    "name": "ipython",
    "version": 2
   },
   "file_extension": ".py",
   "mimetype": "text/x-python",
   "name": "python",
   "nbconvert_exporter": "python",
   "pygments_lexer": "ipython2",
   "version": "2.7.6"
  }
 },
 "nbformat": 4,
 "nbformat_minor": 0
}
